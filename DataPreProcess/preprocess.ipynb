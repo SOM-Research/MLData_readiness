{
 "cells": [
  {
   "cell_type": "markdown",
   "metadata": {},
   "source": [
    "## Joint SDATA and DBrief and generate a clean output"
   ]
  },
  {
   "cell_type": "code",
   "execution_count": 1,
   "metadata": {},
   "outputs": [],
   "source": [
    "import pandas as pd"
   ]
  },
  {
   "cell_type": "code",
   "execution_count": 3,
   "metadata": {},
   "outputs": [],
   "source": [
    "SDataSample = pd.read_csv('../SData/SDataSampleResults.csv', on_bad_lines='skip')\n",
    "SDataRemaining = pd.read_csv('../SData/ResultsRemaininPapers.csv', on_bad_lines='skip')"
   ]
  },
  {
   "cell_type": "code",
   "execution_count": 4,
   "metadata": {},
   "outputs": [],
   "source": [
    "FullResults = pd.merge(SDataSample,SDataRemaining, how='outer')\n",
    "FullResults.to_csv('../SData/FullResults.csv', index=False)"
   ]
  },
  {
   "cell_type": "code",
   "execution_count": 11,
   "metadata": {},
   "outputs": [
    {
     "name": "stdout",
     "output_type": "stream",
     "text": [
      "(1441, 125)\n",
      "(1001, 49)\n"
     ]
    }
   ],
   "source": [
    "DBriefResults = pd.read_excel('../DBrief/DBriefEnachFull2.xlsx')\n",
    "print(DBriefResults.shape)\n",
    "\n",
    "DBriefResults_clean = DBriefResults.tail(-440)\n",
    "cleanDBrief = DBriefResults_clean[['doi','display_name','publication_year','publication_date', 'authorships','cited_by_count','concepts','mesh','grants', 'referenced_works_count','referenced_works', 'counts_by_year','best_oa_location.source.display_name','generated_tags','error','authoring_funding','authoring_funding_grant_id','authoring_maintenance_policies','uses_uses','uses_ml_approach','uses_ml_approach_bool','uses_data_limits','uses_represents_people','uses_collected_from_people','uses_biases','uses_biases_bool','uses_sensitivity','uses_sensitivity_bool','uses_privacy','uses_privacy_bool','uses_data','collection_explanation','collection_type','collection_team_type','collection_labour','collection_team_demographic','collection_target_demographics','collection_language','collection_speakers_demographics', 'collection_sources','collection_infrastructure','annotation_done','annotation_explanation','annotation_type','annotation_manual','annotation_team_type','annotation_team_demograaphic','annotation_infrastructure','annotation_validation_methods']]\n",
    "\n",
    "print(cleanDBrief.shape)\n",
    "cleanDBrief.to_excel('../DBrief/cleanedResults2.xlsx', index=False)\n"
   ]
  },
  {
   "cell_type": "code",
   "execution_count": 2,
   "metadata": {},
   "outputs": [],
   "source": [
    "DBrief = pd.read_csv('../DBrief/DBriefEnach2.csv')\n",
    "DBrief.to_excel('../DBrief/DBriefEnachFull2.xlsx', index=False)"
   ]
  },
  {
   "cell_type": "code",
   "execution_count": 6,
   "metadata": {},
   "outputs": [],
   "source": [
    "DBriefEx = pd.read_excel('../DBrief/DBriefEnachFull.xlsx')\n",
    "cleanDBrief = DBriefEx[['doi','display_name','publication_year','publication_date', 'authorships','cited_by_count','concepts','mesh','grants', 'referenced_works_count','referenced_works', 'counts_by_year','best_oa_location.source.display_name','generated_tags','error','authoring_funding','authoring_funding_grant_id','authoring_maintenance_policies','uses_uses','uses_ml_approach','uses_ml_approach_bool','uses_data_limits','uses_represents_people','uses_collected_from_people','uses_biases','uses_biases_bool','uses_sensitivity','uses_sensitivity_bool','uses_privacy','uses_privacy_bool','uses_data','collection_explanation','collection_type','collection_team_type','collection_labour','collection_team_demographic','collection_target_demographics','collection_language','collection_speakers_demographics', 'collection_sources','collection_infrastructure','annotation_done','annotation_explanation','annotation_type','annotation_manual','annotation_team_type','annotation_team_demograaphic','annotation_infrastructure','annotation_validation_methods']]\n",
    "\n"
   ]
  },
  {
   "cell_type": "code",
   "execution_count": 7,
   "metadata": {},
   "outputs": [
    {
     "name": "stdout",
     "output_type": "stream",
     "text": [
      "(658, 49)\n",
      "(22, 12)\n"
     ]
    }
   ],
   "source": [
    "AllData = pd.read_excel('../AllOutputResults.xlsx')\n",
    "print(cleanDBrief.shape)\n",
    "print(AllData.shape)"
   ]
  },
  {
   "cell_type": "code",
   "execution_count": 35,
   "metadata": {},
   "outputs": [
    {
     "name": "stdout",
     "output_type": "stream",
     "text": [
      "(658, 49)\n",
      "(2698, 49)\n"
     ]
    }
   ],
   "source": [
    "\n",
    "#DBrief = pd.read_csv('../DBrief/cleanedResults.csv')\n",
    "SData = pd.read_csv('../SData/FullResults.csv', on_bad_lines='warn')\n",
    "\n",
    "cleanDBrief = DBriefEx[['doi','display_name','publication_year','publication_date', 'authorships','cited_by_count','concepts','mesh','grants', 'referenced_works_count','referenced_works', 'counts_by_year','best_oa_location.source.display_name','generated_tags','error','authoring_funding','authoring_funding_grant_id','authoring_maintenance_policies','uses_uses','uses_ml_approach','uses_ml_approach_bool','uses_data_limits','uses_represents_people','uses_collected_from_people','uses_biases','uses_biases_bool','uses_sensitivity','uses_sensitivity_bool','uses_privacy','uses_privacy_bool','uses_data','collection_explanation','collection_type','collection_team_type','collection_labour','collection_team_demographic','collection_target_demographics','collection_language','collection_speakers_demographics', 'collection_sources','collection_infrastructure','annotation_done','annotation_explanation','annotation_type','annotation_manual','annotation_team_type','annotation_team_demograaphic','annotation_infrastructure','annotation_validation_methods']]\n",
    "cleanSData = SData[['doi','display_name','publication_year','publication_date', 'authorships','cited_by_count','concepts','mesh','grants', 'referenced_works_count','referenced_works', 'counts_by_year','best_oa_location.source.display_name','generated_tags','error','authoring_funding','authoring_funding_grant_id','authoring_maintenance_policies','uses_uses','uses_ml_approach','uses_ml_approach_bool','uses_data_limits','uses_represents_people','uses_collected_from_people','uses_biases','uses_biases_bool','uses_sensitivity','uses_sensitivity_bool','uses_privacy','uses_privacy_bool','uses_data','collection_explanation','collection_type','collection_team_type','collection_labour','collection_team_demographic','collection_target_demographics','collection_language','collection_speakers_demographics', 'collection_sources','collection_infrastructure','annotation_done','annotation_explanation','annotation_type','annotation_manual','annotation_team_type','annotation_team_demograaphic','annotation_infrastructure','annotation_validation_methods']]\n",
    "\n",
    "print(cleanDBrief.shape)\n",
    "\n",
    "print(cleanSData.shape)\n",
    "\n",
    "pd.concat([cleanDBrief, cleanSData], ignore_index=True).to_excel(\"../AllOutputResults.xlsx\")\n",
    "\n",
    "#DBrief.to_excel(\"../DBrief/OutputResults.xlsx\")\n",
    "#SData.to_excel(\"../SData/OutputResults.xlsx\")\n"
   ]
  },
  {
   "cell_type": "code",
   "execution_count": null,
   "metadata": {},
   "outputs": [],
   "source": []
  },
  {
   "cell_type": "code",
   "execution_count": 21,
   "metadata": {},
   "outputs": [],
   "source": [
    "#DBrief = pd.read_csv('SampleResultsplus.csv')\n",
    "pdClean = pdFinal[['doi','display_name','publication_year','publication_date', 'authorships','cited_by_count','concepts','mesh','grants', 'referenced_works_count','referenced_works', 'counts_by_year','best_oa_location.source.display_name','generated_tags','error','authoring_funding','authoring_funding_grant_id','authoring_maintenance_policies','uses_uses','uses_ml_approach','uses_ml_approach_bool','uses_data_limits','uses_represents_people','uses_collected_from_people','uses_biases','uses_biases_bool','uses_sensitivity','uses_sensitivity_bool','uses_privacy','uses_privacy_bool','uses_data','collection_explanation','collection_type','collection_team_type','collection_labour','collection_team_demographic','collection_target_demographics','collection_language','collection_speakers_demographics', 'collection_sources','collection_infrastructure','annotation_done','annotation_explanation','annotation_type','annotation_manual','annotation_team_type','annotation_team_demograaphic','annotation_infrastructure','annotation_validation_methods']]\n",
    "pdClean.to_excel(\"OutputResults.xlsx\")"
   ]
  },
  {
   "cell_type": "markdown",
   "metadata": {},
   "source": [
    "## Topic Modeling "
   ]
  },
  {
   "cell_type": "code",
   "execution_count": 11,
   "metadata": {},
   "outputs": [
    {
     "name": "stdout",
     "output_type": "stream",
     "text": [
      "0    Yes, the annotation process involves the use o...\n",
      "2    Yes, the following tools or infrastructures we...\n",
      "3    Yes, the annotation process for the data invol...\n",
      "5    No, the context does not provide information a...\n",
      "7    Yes, the tools or infrastructures used during ...\n",
      "Name: annotation_infrastructure, dtype: object\n"
     ]
    }
   ],
   "source": [
    "# Get the dataset\n",
    "results = pd.read_csv(\"../SampleResults.csv\")\n",
    "uses = results['uses_uses']\n",
    "collection_explanation = results['collection_explanation']\n",
    "annotation_infra = results['annotation_infrastructure']\n",
    "clean_infra = annotation_infra.dropna()\n",
    "print(clean_infra.head())"
   ]
  },
  {
   "cell_type": "code",
   "execution_count": 1,
   "metadata": {},
   "outputs": [
    {
     "name": "stderr",
     "output_type": "stream",
     "text": [
      "/Users/joanginer/sites/empirical/empiricalEnv/lib/python3.9/site-packages/umap/distances.py:1063: NumbaDeprecationWarning: The 'nopython' keyword argument was not supplied to the 'numba.jit' decorator. The implicit default value for this argument is currently False, but it will be changed to True in Numba 0.59.0. See https://numba.readthedocs.io/en/stable/reference/deprecation.html#deprecation-of-object-mode-fall-back-behaviour-when-using-jit for details.\n",
      "  @numba.jit()\n",
      "/Users/joanginer/sites/empirical/empiricalEnv/lib/python3.9/site-packages/umap/distances.py:1071: NumbaDeprecationWarning: The 'nopython' keyword argument was not supplied to the 'numba.jit' decorator. The implicit default value for this argument is currently False, but it will be changed to True in Numba 0.59.0. See https://numba.readthedocs.io/en/stable/reference/deprecation.html#deprecation-of-object-mode-fall-back-behaviour-when-using-jit for details.\n",
      "  @numba.jit()\n",
      "/Users/joanginer/sites/empirical/empiricalEnv/lib/python3.9/site-packages/umap/distances.py:1086: NumbaDeprecationWarning: The 'nopython' keyword argument was not supplied to the 'numba.jit' decorator. The implicit default value for this argument is currently False, but it will be changed to True in Numba 0.59.0. See https://numba.readthedocs.io/en/stable/reference/deprecation.html#deprecation-of-object-mode-fall-back-behaviour-when-using-jit for details.\n",
      "  @numba.jit()\n",
      "/Users/joanginer/sites/empirical/empiricalEnv/lib/python3.9/site-packages/tqdm/auto.py:21: TqdmWarning: IProgress not found. Please update jupyter and ipywidgets. See https://ipywidgets.readthedocs.io/en/stable/user_install.html\n",
      "  from .autonotebook import tqdm as notebook_tqdm\n",
      "/Users/joanginer/sites/empirical/empiricalEnv/lib/python3.9/site-packages/umap/umap_.py:660: NumbaDeprecationWarning: The 'nopython' keyword argument was not supplied to the 'numba.jit' decorator. The implicit default value for this argument is currently False, but it will be changed to True in Numba 0.59.0. See https://numba.readthedocs.io/en/stable/reference/deprecation.html#deprecation-of-object-mode-fall-back-behaviour-when-using-jit for details.\n",
      "  @numba.jit()\n"
     ]
    }
   ],
   "source": [
    "import numpy\n",
    "from bertopic import BERTopic"
   ]
  },
  {
   "cell_type": "code",
   "execution_count": 17,
   "metadata": {},
   "outputs": [],
   "source": [
    "from sklearn.feature_extraction.text import CountVectorizer\n",
    "vectorizer_model = CountVectorizer(stop_words=\"english\")\n",
    "\n",
    "topic_model = BERTopic(vectorizer_model=vectorizer_model)\n",
    "topics, probs = topic_model.fit_transform(uses)"
   ]
  },
  {
   "cell_type": "code",
   "execution_count": 18,
   "metadata": {},
   "outputs": [
    {
     "data": {
      "text/html": [
       "<div>\n",
       "<style scoped>\n",
       "    .dataframe tbody tr th:only-of-type {\n",
       "        vertical-align: middle;\n",
       "    }\n",
       "\n",
       "    .dataframe tbody tr th {\n",
       "        vertical-align: top;\n",
       "    }\n",
       "\n",
       "    .dataframe thead th {\n",
       "        text-align: right;\n",
       "    }\n",
       "</style>\n",
       "<table border=\"1\" class=\"dataframe\">\n",
       "  <thead>\n",
       "    <tr style=\"text-align: right;\">\n",
       "      <th></th>\n",
       "      <th>Topic</th>\n",
       "      <th>Count</th>\n",
       "      <th>Name</th>\n",
       "      <th>Representation</th>\n",
       "      <th>Representative_Docs</th>\n",
       "    </tr>\n",
       "  </thead>\n",
       "  <tbody>\n",
       "    <tr>\n",
       "      <th>0</th>\n",
       "      <td>-1</td>\n",
       "      <td>20</td>\n",
       "      <td>-1_dataset_recommended_covid19_uses</td>\n",
       "      <td>[dataset, recommended, covid19, uses, food, da...</td>\n",
       "      <td>[The recommended uses of the dataset are: \\n1....</td>\n",
       "    </tr>\n",
       "    <tr>\n",
       "      <th>1</th>\n",
       "      <td>0</td>\n",
       "      <td>88</td>\n",
       "      <td>0_dataset_recommended_uses_data</td>\n",
       "      <td>[dataset, recommended, uses, data, water, usin...</td>\n",
       "      <td>[The recommended uses of the dataset are: \\n- ...</td>\n",
       "    </tr>\n",
       "    <tr>\n",
       "      <th>2</th>\n",
       "      <td>1</td>\n",
       "      <td>55</td>\n",
       "      <td>1_dataset_recommended_uses_data</td>\n",
       "      <td>[dataset, recommended, uses, data, research, t...</td>\n",
       "      <td>[The recommended uses of the dataset are: \\n1....</td>\n",
       "    </tr>\n",
       "    <tr>\n",
       "      <th>3</th>\n",
       "      <td>2</td>\n",
       "      <td>49</td>\n",
       "      <td>2_dataset_recommended_uses_gene</td>\n",
       "      <td>[dataset, recommended, uses, gene, analysis, d...</td>\n",
       "      <td>[The recommended uses of the dataset are: \\n1....</td>\n",
       "    </tr>\n",
       "  </tbody>\n",
       "</table>\n",
       "</div>"
      ],
      "text/plain": [
       "   Topic  Count                                 Name  \\\n",
       "0     -1     20  -1_dataset_recommended_covid19_uses   \n",
       "1      0     88      0_dataset_recommended_uses_data   \n",
       "2      1     55      1_dataset_recommended_uses_data   \n",
       "3      2     49      2_dataset_recommended_uses_gene   \n",
       "\n",
       "                                      Representation  \\\n",
       "0  [dataset, recommended, covid19, uses, food, da...   \n",
       "1  [dataset, recommended, uses, data, water, usin...   \n",
       "2  [dataset, recommended, uses, data, research, t...   \n",
       "3  [dataset, recommended, uses, gene, analysis, d...   \n",
       "\n",
       "                                 Representative_Docs  \n",
       "0  [The recommended uses of the dataset are: \\n1....  \n",
       "1  [The recommended uses of the dataset are: \\n- ...  \n",
       "2  [The recommended uses of the dataset are: \\n1....  \n",
       "3  [The recommended uses of the dataset are: \\n1....  "
      ]
     },
     "execution_count": 18,
     "metadata": {},
     "output_type": "execute_result"
    }
   ],
   "source": [
    "topic_model.get_topic_info()"
   ]
  }
 ],
 "metadata": {
  "kernelspec": {
   "display_name": "Python 3.9.6 ('.empenv': venv)",
   "language": "python",
   "name": "python3"
  },
  "language_info": {
   "codemirror_mode": {
    "name": "ipython",
    "version": 3
   },
   "file_extension": ".py",
   "mimetype": "text/x-python",
   "name": "python",
   "nbconvert_exporter": "python",
   "pygments_lexer": "ipython3",
   "version": "3.9.6"
  },
  "orig_nbformat": 4,
  "vscode": {
   "interpreter": {
    "hash": "b4213efdd804eb89e2192dab2f3f176d5a94651b6713c9127ff0e1f0d2be9b65"
   }
  }
 },
 "nbformat": 4,
 "nbformat_minor": 2
}
